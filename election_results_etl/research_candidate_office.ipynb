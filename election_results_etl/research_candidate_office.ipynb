{
 "cells": [
  {
   "cell_type": "code",
   "execution_count": 1,
   "metadata": {},
   "outputs": [],
   "source": [
    "import io\n",
    "\n",
    "import pandas as pd\n",
    "\n",
    "from utils import constants, helpers"
   ]
  },
  {
   "cell_type": "code",
   "execution_count": 2,
   "metadata": {},
   "outputs": [],
   "source": [
    "logger = helpers.setup_logger_stdout('extract_election_results')"
   ]
  },
  {
   "cell_type": "code",
   "execution_count": 3,
   "metadata": {},
   "outputs": [],
   "source": [
    "content = helpers.fetch_summary_results(logger)"
   ]
  },
  {
   "cell_type": "code",
   "execution_count": 4,
   "metadata": {},
   "outputs": [
    {
     "data": {
      "text/plain": [
       "'2020-12-1 20:34:56.000000'"
      ]
     },
     "execution_count": 4,
     "metadata": {},
     "output_type": "execute_result"
    }
   ],
   "source": [
    "last_updated = helpers.extract_last_updated(content, logger)\n",
    "last_updated"
   ]
  },
  {
   "cell_type": "code",
   "execution_count": 5,
   "metadata": {},
   "outputs": [],
   "source": [
    "summary_results = pd.read_csv(io.BytesIO(content.read('summary.csv')), encoding='latin1')"
   ]
  },
  {
   "cell_type": "code",
   "execution_count": 6,
   "metadata": {},
   "outputs": [],
   "source": [
    "summary_results = helpers.transform_dataframe(summary_results)"
   ]
  },
  {
   "cell_type": "code",
   "execution_count": 7,
   "metadata": {},
   "outputs": [
    {
     "data": {
      "text/html": [
       "<div>\n",
       "<style scoped>\n",
       "    .dataframe tbody tr th:only-of-type {\n",
       "        vertical-align: middle;\n",
       "    }\n",
       "\n",
       "    .dataframe tbody tr th {\n",
       "        vertical-align: top;\n",
       "    }\n",
       "\n",
       "    .dataframe thead th {\n",
       "        text-align: right;\n",
       "    }\n",
       "</style>\n",
       "<table border=\"1\" class=\"dataframe\">\n",
       "  <thead>\n",
       "    <tr style=\"text-align: right;\">\n",
       "      <th></th>\n",
       "      <th>clarity_office</th>\n",
       "      <th>clarity_candidate</th>\n",
       "      <th>votes</th>\n",
       "      <th>percent_votes</th>\n",
       "      <th>registered voters</th>\n",
       "      <th>ballots cast</th>\n",
       "    </tr>\n",
       "  </thead>\n",
       "  <tbody>\n",
       "    <tr>\n",
       "      <th>0</th>\n",
       "      <td>State Senate District 39 - Special Democratic ...</td>\n",
       "      <td>Sonya Halpern (DEM)</td>\n",
       "      <td>0</td>\n",
       "      <td>0.00</td>\n",
       "      <td>0</td>\n",
       "      <td>0</td>\n",
       "    </tr>\n",
       "    <tr>\n",
       "      <th>1</th>\n",
       "      <td>State Senate District 39 - Special Democratic ...</td>\n",
       "      <td>Linda Pritchett (DEM)</td>\n",
       "      <td>0</td>\n",
       "      <td>0.00</td>\n",
       "      <td>0</td>\n",
       "      <td>0</td>\n",
       "    </tr>\n",
       "    <tr>\n",
       "      <th>2</th>\n",
       "      <td>District Attorney - Western - Special</td>\n",
       "      <td>James Chafin</td>\n",
       "      <td>6472</td>\n",
       "      <td>75.95</td>\n",
       "      <td>0</td>\n",
       "      <td>8524</td>\n",
       "    </tr>\n",
       "    <tr>\n",
       "      <th>3</th>\n",
       "      <td>District Attorney - Western - Special</td>\n",
       "      <td>Deborah Gonzalez (Dem)</td>\n",
       "      <td>2049</td>\n",
       "      <td>24.05</td>\n",
       "      <td>0</td>\n",
       "      <td>8524</td>\n",
       "    </tr>\n",
       "  </tbody>\n",
       "</table>\n",
       "</div>"
      ],
      "text/plain": [
       "                                      clarity_office       clarity_candidate  \\\n",
       "0  State Senate District 39 - Special Democratic ...     Sonya Halpern (DEM)   \n",
       "1  State Senate District 39 - Special Democratic ...   Linda Pritchett (DEM)   \n",
       "2              District Attorney - Western - Special            James Chafin   \n",
       "3              District Attorney - Western - Special  Deborah Gonzalez (Dem)   \n",
       "\n",
       "   votes  percent_votes  registered voters  ballots cast  \n",
       "0      0           0.00                  0             0  \n",
       "1      0           0.00                  0             0  \n",
       "2   6472          75.95                  0          8524  \n",
       "3   2049          24.05                  0          8524  "
      ]
     },
     "execution_count": 7,
     "metadata": {},
     "output_type": "execute_result"
    }
   ],
   "source": [
    "summary_results.head()"
   ]
  },
  {
   "cell_type": "code",
   "execution_count": 8,
   "metadata": {},
   "outputs": [],
   "source": [
    "branch_info = pd.DataFrame(constants.BRANCH_CANDIDATE_OFFICES)"
   ]
  },
  {
   "cell_type": "code",
   "execution_count": 9,
   "metadata": {},
   "outputs": [
    {
     "data": {
      "text/html": [
       "<div>\n",
       "<style scoped>\n",
       "    .dataframe tbody tr th:only-of-type {\n",
       "        vertical-align: middle;\n",
       "    }\n",
       "\n",
       "    .dataframe tbody tr th {\n",
       "        vertical-align: top;\n",
       "    }\n",
       "\n",
       "    .dataframe thead th {\n",
       "        text-align: right;\n",
       "    }\n",
       "</style>\n",
       "<table border=\"1\" class=\"dataframe\">\n",
       "  <thead>\n",
       "    <tr style=\"text-align: right;\">\n",
       "      <th></th>\n",
       "      <th>branch_id</th>\n",
       "      <th>branch_candidate</th>\n",
       "      <th>branch_race_id</th>\n",
       "      <th>clarity_candidate</th>\n",
       "      <th>clarity_office</th>\n",
       "    </tr>\n",
       "  </thead>\n",
       "  <tbody>\n",
       "    <tr>\n",
       "      <th>0</th>\n",
       "      <td>linda-pritchett</td>\n",
       "      <td>Linda Pritchett</td>\n",
       "      <td>ga-general-runoff-2020-ga-senate-39</td>\n",
       "      <td>Linda Pritchett (DEM)</td>\n",
       "      <td>State Senate District 39 - Special Democratic ...</td>\n",
       "    </tr>\n",
       "    <tr>\n",
       "      <th>1</th>\n",
       "      <td>sonya-halpern</td>\n",
       "      <td>Sonya Halpern</td>\n",
       "      <td>ga-general-runoff-2020-ga-senate-39</td>\n",
       "      <td>Sonya Halpern (DEM)</td>\n",
       "      <td>State Senate District 39 - Special Democratic ...</td>\n",
       "    </tr>\n",
       "    <tr>\n",
       "      <th>2</th>\n",
       "      <td>kwanza-hall</td>\n",
       "      <td>Kwanza Hall</td>\n",
       "      <td>ga-special-2020-us-house-5</td>\n",
       "      <td>Kwanza Hall</td>\n",
       "      <td>US House District 5</td>\n",
       "    </tr>\n",
       "    <tr>\n",
       "      <th>3</th>\n",
       "      <td>robert-franklin</td>\n",
       "      <td>Robert Franklin</td>\n",
       "      <td>ga-special-2020-us-house-5</td>\n",
       "      <td>Robert Franklin</td>\n",
       "      <td>US House District 5</td>\n",
       "    </tr>\n",
       "  </tbody>\n",
       "</table>\n",
       "</div>"
      ],
      "text/plain": [
       "         branch_id branch_candidate                       branch_race_id  \\\n",
       "0  linda-pritchett  Linda Pritchett  ga-general-runoff-2020-ga-senate-39   \n",
       "1    sonya-halpern    Sonya Halpern  ga-general-runoff-2020-ga-senate-39   \n",
       "2      kwanza-hall      Kwanza Hall           ga-special-2020-us-house-5   \n",
       "3  robert-franklin  Robert Franklin           ga-special-2020-us-house-5   \n",
       "\n",
       "       clarity_candidate                                     clarity_office  \n",
       "0  Linda Pritchett (DEM)  State Senate District 39 - Special Democratic ...  \n",
       "1    Sonya Halpern (DEM)  State Senate District 39 - Special Democratic ...  \n",
       "2            Kwanza Hall                                US House District 5  \n",
       "3        Robert Franklin                                US House District 5  "
      ]
     },
     "execution_count": 9,
     "metadata": {},
     "output_type": "execute_result"
    }
   ],
   "source": [
    "branch_info.head()"
   ]
  },
  {
   "cell_type": "code",
   "execution_count": 10,
   "metadata": {},
   "outputs": [
    {
     "data": {
      "text/html": [
       "<div>\n",
       "<style scoped>\n",
       "    .dataframe tbody tr th:only-of-type {\n",
       "        vertical-align: middle;\n",
       "    }\n",
       "\n",
       "    .dataframe tbody tr th {\n",
       "        vertical-align: top;\n",
       "    }\n",
       "\n",
       "    .dataframe thead th {\n",
       "        text-align: right;\n",
       "    }\n",
       "</style>\n",
       "<table border=\"1\" class=\"dataframe\">\n",
       "  <thead>\n",
       "    <tr style=\"text-align: right;\">\n",
       "      <th></th>\n",
       "      <th>1</th>\n",
       "    </tr>\n",
       "  </thead>\n",
       "  <tbody>\n",
       "    <tr>\n",
       "      <th>clarity_office</th>\n",
       "      <td>State Senate District 39 - Special Democratic Primary</td>\n",
       "    </tr>\n",
       "    <tr>\n",
       "      <th>clarity_candidate</th>\n",
       "      <td>Linda Pritchett (DEM)</td>\n",
       "    </tr>\n",
       "    <tr>\n",
       "      <th>votes</th>\n",
       "      <td>0</td>\n",
       "    </tr>\n",
       "    <tr>\n",
       "      <th>percent_votes</th>\n",
       "      <td>0</td>\n",
       "    </tr>\n",
       "    <tr>\n",
       "      <th>registered voters</th>\n",
       "      <td>0</td>\n",
       "    </tr>\n",
       "    <tr>\n",
       "      <th>ballots cast</th>\n",
       "      <td>0</td>\n",
       "    </tr>\n",
       "  </tbody>\n",
       "</table>\n",
       "</div>"
      ],
      "text/plain": [
       "                                                                       1\n",
       "clarity_office     State Senate District 39 - Special Democratic Primary\n",
       "clarity_candidate                                  Linda Pritchett (DEM)\n",
       "votes                                                                  0\n",
       "percent_votes                                                          0\n",
       "registered voters                                                      0\n",
       "ballots cast                                                           0"
      ]
     },
     "execution_count": 10,
     "metadata": {},
     "output_type": "execute_result"
    }
   ],
   "source": [
    "pd.set_option('max_colwidth', None)\n",
    "summary_results[summary_results['clarity_candidate'].str.contains(\"Pritchett\")].T"
   ]
  },
  {
   "cell_type": "code",
   "execution_count": null,
   "metadata": {},
   "outputs": [],
   "source": []
  },
  {
   "cell_type": "code",
   "execution_count": null,
   "metadata": {},
   "outputs": [],
   "source": []
  }
 ],
 "metadata": {
  "kernelspec": {
   "display_name": "Python 3",
   "language": "python",
   "name": "python3"
  },
  "language_info": {
   "codemirror_mode": {
    "name": "ipython",
    "version": 3
   },
   "file_extension": ".py",
   "mimetype": "text/x-python",
   "name": "python",
   "nbconvert_exporter": "python",
   "pygments_lexer": "ipython3",
   "version": "3.8.5"
  }
 },
 "nbformat": 4,
 "nbformat_minor": 4
}
