{
 "cells": [
  {
   "cell_type": "code",
   "execution_count": null,
   "metadata": {},
   "outputs": [],
   "source": [
    "import io\n",
    "import zipfile\n",
    "\n",
    "import pandas as pd\n",
    "import requests\n",
    "\n",
    "from utils import settings"
   ]
  },
  {
   "cell_type": "code",
   "execution_count": null,
   "metadata": {},
   "outputs": [],
   "source": [
    "# This will need to be updated once Clarity starts posting results for the race...\n",
    "# Typically this is right after the polls close in Georgia.\n",
    "SUMMARY_CSV_URL = 'https://results.enr.clarityelections.com//GA//107395/272627/reports/summary.zip'"
   ]
  },
  {
   "cell_type": "code",
   "execution_count": null,
   "metadata": {},
   "outputs": [],
   "source": [
    "r = requests.get(SUMMARY_CSV_URL)"
   ]
  },
  {
   "cell_type": "code",
   "execution_count": null,
   "metadata": {},
   "outputs": [],
   "source": [
    "r.status_code"
   ]
  },
  {
   "cell_type": "code",
   "execution_count": null,
   "metadata": {},
   "outputs": [],
   "source": [
    "content = zipfile.ZipFile(io.BytesIO(r.content))"
   ]
  },
  {
   "cell_type": "code",
   "execution_count": null,
   "metadata": {},
   "outputs": [],
   "source": [
    "m = content.infolist()[0].date_time"
   ]
  },
  {
   "cell_type": "code",
   "execution_count": null,
   "metadata": {},
   "outputs": [],
   "source": [
    "last_updated = f'{m[0]}-{m[1]}-{m[2]} {m[3]}:{m[4]}:{m[5]}.000000'"
   ]
  },
  {
   "cell_type": "code",
   "execution_count": null,
   "metadata": {},
   "outputs": [],
   "source": [
    "summary_results = pd.read_csv(io.BytesIO(content.read('summary.csv')), encoding='latin1')"
   ]
  },
  {
   "cell_type": "code",
   "execution_count": null,
   "metadata": {},
   "outputs": [],
   "source": [
    "column_rename = {\n",
    "    \"contest name\": \"clarity_office\",\n",
    "    \"choice name\": \"clarity_candidate\",\n",
    "    \"total votes\": \"votes\",\n",
    "    \"percent of votes\": \"percent_votes\",\n",
    "}\n",
    "summary_results.rename(columns=column_rename, inplace=True)"
   ]
  },
  {
   "cell_type": "code",
   "execution_count": null,
   "metadata": {},
   "outputs": [],
   "source": [
    "summary_results.drop(\n",
    "    columns=['line number', 'party name', 'num Precinct total', 'num Precinct rptg', 'over votes', 'under votes'], \n",
    "    inplace=True\n",
    ")"
   ]
  },
  {
   "cell_type": "code",
   "execution_count": null,
   "metadata": {},
   "outputs": [],
   "source": [
    "summary_results.head()"
   ]
  },
  {
   "cell_type": "code",
   "execution_count": null,
   "metadata": {},
   "outputs": [],
   "source": [
    "summary_results.info()"
   ]
  },
  {
   "cell_type": "markdown",
   "metadata": {},
   "source": [
    "### Use this next cell to lookup Clarity information..."
   ]
  },
  {
   "cell_type": "code",
   "execution_count": null,
   "metadata": {},
   "outputs": [],
   "source": [
    "pd.set_option('max_colwidth', None)\n",
    "summary_results[summary_results['clarity_candidate'].str.contains(\"Pritchett\")].T"
   ]
  },
  {
   "cell_type": "code",
   "execution_count": null,
   "metadata": {},
   "outputs": [],
   "source": [
    "branch_candidate_office_20201201 = [\n",
    "    {\n",
    "        'branch_id': 'linda-pritchett',\n",
    "        'branch_candidate': 'Linda Pritchett',\n",
    "        'branch_race_id': 'ga-general-runoff-2020-ga-senate-39',\n",
    "        'clarity_candidate': 'Linda Pritchett (DEM)',\n",
    "        'clarity_office': 'State Senate District 39 - Special Democratic Primary'\n",
    "    },\n",
    "    {\n",
    "        'branch_id': 'sonya-halpern',\n",
    "        'branch_candidate': 'Sonya Halpern',\n",
    "        'branch_race_id': 'ga-general-runoff-2020-ga-senate-39',\n",
    "        'clarity_candidate': 'Sonya Halpern (DEM)',\n",
    "        'clarity_office': 'State Senate District 39 - Special Democratic Primary'\n",
    "    },\n",
    "    {\n",
    "        \n",
    "        'branch_id': 'kwanza-hall',\n",
    "        'branch_candidate': 'Kwanza Hall',\n",
    "        'branch_race_id': 'ga-special-2020-us-house-5',\n",
    "        'clarity_candidate': 'Kwanza Hall',\n",
    "        'clarity_office': 'US House District 5'\n",
    "    },\n",
    "    {\n",
    "        'branch_id': 'robert-franklin',\n",
    "        'branch_candidate': 'Robert Franklin',\n",
    "        'branch_race_id': 'ga-special-2020-us-house-5',\n",
    "        'clarity_candidate': 'Robert Franklin',\n",
    "        'clarity_office': 'US House District 5'\n",
    "    },\n",
    "]"
   ]
  },
  {
   "cell_type": "code",
   "execution_count": null,
   "metadata": {},
   "outputs": [],
   "source": [
    "branch_info = pd.DataFrame(branch_candidate_office_20201201)"
   ]
  },
  {
   "cell_type": "code",
   "execution_count": null,
   "metadata": {},
   "outputs": [],
   "source": [
    "branch_info.info()"
   ]
  },
  {
   "cell_type": "code",
   "execution_count": null,
   "metadata": {},
   "outputs": [],
   "source": [
    "pd.set_option('max_colwidth', None)\n",
    "branch_info.head()"
   ]
  },
  {
   "cell_type": "code",
   "execution_count": null,
   "metadata": {},
   "outputs": [],
   "source": [
    "type(branch_info)"
   ]
  },
  {
   "cell_type": "code",
   "execution_count": null,
   "metadata": {},
   "outputs": [],
   "source": [
    "pd.set_option('max_colwidth', None)\n",
    "branch_info.head().T"
   ]
  },
  {
   "cell_type": "code",
   "execution_count": null,
   "metadata": {},
   "outputs": [],
   "source": [
    "merged_results = pd.merge(branch_info, summary_results, on=['clarity_candidate', 'clarity_office'], how='inner')"
   ]
  },
  {
   "cell_type": "code",
   "execution_count": null,
   "metadata": {},
   "outputs": [],
   "source": [
    "merged_results.head()"
   ]
  },
  {
   "cell_type": "code",
   "execution_count": null,
   "metadata": {},
   "outputs": [],
   "source": [
    "type(merged_results)"
   ]
  },
  {
   "cell_type": "code",
   "execution_count": null,
   "metadata": {},
   "outputs": [],
   "source": [
    "merged_results.info()"
   ]
  },
  {
   "cell_type": "code",
   "execution_count": null,
   "metadata": {},
   "outputs": [],
   "source": [
    "type(merged_results)"
   ]
  },
  {
   "cell_type": "code",
   "execution_count": null,
   "metadata": {},
   "outputs": [],
   "source": [
    "merged_results.insert(0, 'last_updated', last_updated)"
   ]
  },
  {
   "cell_type": "code",
   "execution_count": null,
   "metadata": {},
   "outputs": [],
   "source": [
    "merged_results.head()"
   ]
  },
  {
   "cell_type": "code",
   "execution_count": null,
   "metadata": {},
   "outputs": [],
   "source": [
    "election_results_csv = io.StringIO()\n",
    "columns = [\n",
    "    'last_updated',\n",
    "    'branch_id',\n",
    "    'branch_race_id',\n",
    "    'clarity_candidate',\n",
    "    'clarity_office',\n",
    "    'votes',\n",
    "    'percent_votes'\n",
    "]\n",
    "merged_results.to_csv(election_results_csv, columns=columns, header=True, index=False)"
   ]
  },
  {
   "cell_type": "code",
   "execution_count": null,
   "metadata": {},
   "outputs": [],
   "source": [
    "election_results_csv.getvalue()"
   ]
  },
  {
   "cell_type": "code",
   "execution_count": null,
   "metadata": {},
   "outputs": [],
   "source": [
    "url = settings.BRANCH_URL_AUTH\n",
    "\n",
    "headers = {\n",
    "    \"Content-Type\": \"application/json\",\n",
    "}\n",
    "\n",
    "data = {\n",
    "    \"email\": settings.BRANCH_EMAIL,\n",
    "    \"password\": settings.BRANCH_PASSWORD,\n",
    "    \"strategy\": settings.BRANCH_STRATEGY,\n",
    "}"
   ]
  },
  {
   "cell_type": "code",
   "execution_count": null,
   "metadata": {},
   "outputs": [],
   "source": [
    "results = requests.post(url, json=data, headers=headers)\n",
    "results.status_code"
   ]
  },
  {
   "cell_type": "code",
   "execution_count": null,
   "metadata": {},
   "outputs": [],
   "source": [
    "branch_token = results.json().get('accessToken')"
   ]
  },
  {
   "cell_type": "code",
   "execution_count": null,
   "metadata": {},
   "outputs": [],
   "source": [
    "url = settings.BRANCH_URL\n",
    "\n",
    "headers = {\n",
    "    'Authorization': branch_token\n",
    "}\n",
    "\n",
    "files = {'file': election_results_csv.getvalue()}"
   ]
  },
  {
   "cell_type": "code",
   "execution_count": null,
   "metadata": {},
   "outputs": [],
   "source": [
    "r = requests.post(url, files=files, headers=headers)\n",
    "r.status_code"
   ]
  },
  {
   "cell_type": "code",
   "execution_count": null,
   "metadata": {},
   "outputs": [],
   "source": [
    "r.json().get('location')"
   ]
  },
  {
   "cell_type": "code",
   "execution_count": null,
   "metadata": {},
   "outputs": [],
   "source": []
  }
 ],
 "metadata": {
  "kernelspec": {
   "display_name": "Python 3",
   "language": "python",
   "name": "python3"
  },
  "language_info": {
   "codemirror_mode": {
    "name": "ipython",
    "version": 3
   },
   "file_extension": ".py",
   "mimetype": "text/x-python",
   "name": "python",
   "nbconvert_exporter": "python",
   "pygments_lexer": "ipython3",
   "version": "3.8.5"
  }
 },
 "nbformat": 4,
 "nbformat_minor": 4
}
